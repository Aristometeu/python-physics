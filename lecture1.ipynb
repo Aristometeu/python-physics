{
 "cells": [
  {
   "cell_type": "markdown",
   "metadata": {},
   "source": [
    "# Python as a powerful calculator\n",
    "We start our tour of Python with its built-in data structures. The simplest type of data we can think of are numbers. Python has two data types to deal with them: int and float. The type int is used to represent integer numbers, while float represents decimal point numbers. "
   ]
  },
  {
   "cell_type": "markdown",
   "metadata": {},
   "source": [
    "### Exercise 1. Run in the box below the commands `type(3)` and `type(3.0)`."
   ]
  },
  {
   "cell_type": "code",
   "execution_count": null,
   "metadata": {
    "collapsed": false
   },
   "outputs": [],
   "source": []
  },
  {
   "cell_type": "markdown",
   "metadata": {},
   "source": [
    "The function `type()` you have just used is a very important construct that highlights the fact that everything in Python is an object of a particular type. The type of an object determines what operations we can perform on them. Of course, our purpose in programming is to manipulate data. For numbers in particular, we expect to be able to compute all the familiar algebraic operations we learned at school: sum, subtraction, multiplication, division and exponentiation. The main algebraic operations are implemented in Python in the following way:\n",
    "\n",
    "- Sum: `+`\n",
    "- Subtraction: `-`\n",
    "- Multiplication: `*`\n",
    "- Division: `/`\n",
    "- Exponentiation: `**`\n",
    "- Integer division: `//`\n",
    "- Modular algebra: `%`\n",
    "\n",
    "In the interactive modes, be it a Jupyter notebook or an IPython console in Spyder, Python can indeed be used as a powerful calculator. "
   ]
  },
  {
   "cell_type": "markdown",
   "metadata": {},
   "source": [
    "### Exercise 2. Compute the expression $\\sqrt[4]{\\frac{765\\cdot(587 + 13987)}{4^{15}}}$."
   ]
  },
  {
   "cell_type": "code",
   "execution_count": null,
   "metadata": {
    "collapsed": false,
    "scrolled": true
   },
   "outputs": [],
   "source": []
  },
  {
   "cell_type": "markdown",
   "metadata": {},
   "source": [
    "A few relevant points are worth to note when computing expressions like the one above. We all carry from school the notion of operator precedence. Thus, products should be solved before sums, and exponentials before everything else. These common sense rules remain true in Python. Evidently, we can always change the order of precedence with parantheses, just as we do in real life. You can check the complete list of operator precedence in Python [here](https://docs.python.org/3/reference/expressions.html#operator-precedence). \n",
    "\n",
    "Another important point to note is that some operations output data of a different type from their inputs, as we see in the exercise below."
   ]
  },
  {
   "cell_type": "markdown",
   "metadata": {
    "collapsed": false
   },
   "source": [
    "### Exercise 3. Run the following commands in the box below: `type(1)`, `type(1/1)`.\n"
   ]
  },
  {
   "cell_type": "code",
   "execution_count": 8,
   "metadata": {
    "collapsed": false
   },
   "outputs": [
    {
     "data": {
      "text/plain": [
       "float"
      ]
     },
     "execution_count": 8,
     "metadata": {},
     "output_type": "execute_result"
    }
   ],
   "source": [
    "type(1/1)"
   ]
  },
  {
   "cell_type": "markdown",
   "metadata": {},
   "source": [
    " In the particular case of the division operator, this has not always been the case. In Python 2, the division operator applied to two integers yielded their integer division as result. Integer division is accomplished in Python 3 with the operator `//`. The modulo operator, which yields the remainder of integer division, is `%`. "
   ]
  },
  {
   "cell_type": "markdown",
   "metadata": {
    "collapsed": false
   },
   "source": [
    "### Exercise 4. Compute below `1//2` and `8%3`."
   ]
  },
  {
   "cell_type": "code",
   "execution_count": 1,
   "metadata": {
    "collapsed": false
   },
   "outputs": [
    {
     "data": {
      "text/plain": [
       "1"
      ]
     },
     "execution_count": 1,
     "metadata": {},
     "output_type": "execute_result"
    }
   ],
   "source": []
  },
  {
   "cell_type": "markdown",
   "metadata": {
    "collapsed": true
   },
   "source": [
    "When programming, we will rarely perform these algebraic operations directly on numbers like we do on a calculator. We use variables instead. In Python, the assignment operator is `=`. The expression `a = 3` means that we are assigning the value 3 to the variable a. The piece of code bellow shows how things are usually done."
   ]
  },
  {
   "cell_type": "code",
   "execution_count": 14,
   "metadata": {
    "collapsed": false
   },
   "outputs": [
    {
     "name": "stdout",
     "output_type": "stream",
     "text": [
      "18\n"
     ]
    }
   ],
   "source": [
    "a = 3\n",
    "b = 6\n",
    "product = a*b\n",
    "print(product)"
   ]
  },
  {
   "cell_type": "markdown",
   "metadata": {},
   "source": [
    "A brief comment is due about assignments in Python. We should think of the command `a = 3` as binding the name a to the int object 3. Names in Python live in [namespaces](https://docs.python.org/3/tutorial/classes.html#python-scopes-and-namespaces), which can be thought of as maps from names to objects. We shall have a lot more to discuss about namespaces when the proper circumstances arise. At this point, specially when dealing with numerical types, it won't hurt to think of the object and its name interchangeably. However, you should always have in mind that a variable is just a name and nothing more. Ultimately names and the things they refer to are distinct entities, as is known since the days of [Juliet](https://en.wikipedia.org/wiki/A_rose_by_any_other_name_would_smell_as_sweet). Note also that we have written the statement `print(product)` to print the result of the product to the screen. In the interactive mode, we might simply have typed `a*b` after assigning `a` and `b` since the results of operations are automatically printed. In the standard mode though, we have to use the `print` statement. "
   ]
  },
  {
   "cell_type": "markdown",
   "metadata": {},
   "source": [
    "We shall now end this first notebook with two more concepts that will be recurring during this course: those of function and plotting. Frequently we encounter situations in which we know the relation between inputs and outputs, but we don't know precisely what the input is. The notion of function then comes handy. Suppose for example that we want to evaluate the function $f(x) = 3x^2 + 2x - 4$ for several values of $x$. We can easily define this function in Python:\n",
    "\n",
    "```python\n",
    "def f(x):\n",
    "    return 3*x**2 + 2*x - 4\n",
    "```\n",
    "\n"
   ]
  },
  {
   "cell_type": "markdown",
   "metadata": {
    "collapsed": false
   },
   "source": [
    "### Exercise 5. Run the piece of code above and use it to compute f(4298)."
   ]
  },
  {
   "cell_type": "markdown",
   "metadata": {},
   "source": [
    "The piece of code above illustrates how functions are implemented in Python. The line `def f(x):` is always used to initiate the definition of a function $f$ that depends on a parameter $x$. The command `return`, on the other hand, causes the function to exit and passes the subsequent expression to whatever called the function. One important point to note in the piece of code above is the colon in `def f(x)` and the indentation in `return 3*x**2 + 2*x - 4`. Everything we write inside the definition of the function and up to the `return` statement has to be indented. These indentation rules will be recurring whenever we change [scope](https://en.wikipedia.org/wiki/A_rose_by_any_other_name_would_smell_as_sweet), which in Python is indicated by the colon. The concept of scope is another one on which we shall spend a little more time later and it is intimately related with namespaces. Although the exact number of spaces is yours to choose, you must use the same indentation (i.e., the same number of spaces) when changing scope through your code.  For readability we suggest indenting four spaces."
   ]
  },
  {
   "cell_type": "markdown",
   "metadata": {},
   "source": [
    "Finally, we can plot the function $f$ that we have just defined. To do this we will first import the [pyplot](https://matplotlib.org/api/pyplot_api.html) module from the [matplotlib](https://matplotlib.org/) library. This is achieved through the following line of code."
   ]
  },
  {
   "cell_type": "code",
   "execution_count": 4,
   "metadata": {
    "collapsed": true
   },
   "outputs": [],
   "source": [
    "import matplotlib.pyplot as plt"
   ]
  },
  {
   "cell_type": "markdown",
   "metadata": {},
   "source": [
    "The statements above can be understood as follows. The statement `import a_module` finds, loads and initializes a_module. In the example above, the submodule pyplot of the module matplotlib is being imported. The statement `import long_module_name as short_name` is used so that we don't have to write the full module name whenever we use it. More details can be found in https://docs.python.org/3/reference/import.html. Finally, we are ready to do our plot."
   ]
  },
  {
   "cell_type": "code",
   "execution_count": 19,
   "metadata": {
    "collapsed": false,
    "scrolled": true
   },
   "outputs": [
    {
     "data": {
      "text/plain": [
       "<matplotlib.text.Text at 0x7fcc9a225198>"
      ]
     },
     "execution_count": 19,
     "metadata": {},
     "output_type": "execute_result"
    }
   ],
   "source": [
    "X = [(-10 + i*0.1) for i in range(200)]\n",
    "Y = [f(x) for x in X] \n",
    "plt.plot(X,Y,\"r\")\n",
    "plt.xlabel(\"x\")\n",
    "plt.ylabel(\"f(x)\")\n",
    "plt.title(\"My first plot!\")\n",
    "plt.show()\n"
   ]
  },
  {
   "cell_type": "markdown",
   "metadata": {},
   "source": [
    "The last lines have introduced many concepts that we shall be using again and again. We will not go in detail at this point, but here goes a brief description of what is going on: both X and Y (capitalized! Python is case sensitive) are examples of iterables, which are data structures similar to lists. In other words, they have some internal structure. You can check their types as we have done before. Note in particular how the lists X and Y were created. This very practical method of creating lists is called [list comprehension](https://docs.python.org/3.1/tutorial/datastructures.html#list-comprehensions). The subsequent lines use some of the functions provided by the [matplotlib.pyplot](https://matplotlib.org/users/pyplot_tutorial.html) module. Note that X and Y are both a discrete collection of numbers. You can look at their contents using the `print()` comand. We chose their length to be 200 so that the resulting plot looked smooth, but you should always remember that there is no such thing as a real number! The code specifies that the plot should be red (\"r\") and also includes lines that provide labels to the x and y axes of our graph, as well as its title. The last line, `plt.show()`, is necessary to visualize our plot. In the interactive mode, it should generate a picture with the plot as output. In the standard mode, a new window with the plot should pop up. You should try to put all these lines of code together in Spyder to see what happens. "
   ]
  },
  {
   "cell_type": "markdown",
   "metadata": {
    "collapsed": false
   },
   "source": [
    "### Exercise 6. Some common physics potentials."
   ]
  },
  {
   "cell_type": "markdown",
   "metadata": {},
   "source": []
  },
  {
   "cell_type": "code",
   "execution_count": null,
   "metadata": {
    "collapsed": false
   },
   "outputs": [],
   "source": []
  },
  {
   "cell_type": "markdown",
   "metadata": {},
   "source": [
    "In the next exercises we will play a little bit with the math library.  It contains mathematical functions and constants commonly found in science and engineering such as $\\sin(x)$, $\\exp$ and others. Although we will usually prefer numpy four our numerical tasks, it is a good idea to be comfortable with the math module too.  \n",
    "\n",
    "  "
   ]
  },
  {
   "cell_type": "markdown",
   "metadata": {},
   "source": [
    "### Exercise 8. Define the function `circle_area` below. \n",
    "\n",
    "It takes the radius of a circle and returns its area. Use the math library implementantion of [$\\pi$](https://docs.python.org/3/library/math.html#math.pi)."
   ]
  },
  {
   "cell_type": "code",
   "execution_count": 1,
   "metadata": {
    "collapsed": false
   },
   "outputs": [
    {
     "name": "stdout",
     "output_type": "stream",
     "text": [
      "0.0\n",
      "12.566370614359172\n"
     ]
    }
   ],
   "source": [
    "import math\n",
    "def circle_area(radius): \n",
    "    return math.pi*radius**2\n",
    "\n",
    "def circle_circumference(radius):\n",
    "    return 2*math.pi*radius\n",
    "\n",
    "print(circle_area(0))\n",
    "\n",
    "print(circle_circumference(2))\n"
   ]
  },
  {
   "cell_type": "markdown",
   "metadata": {},
   "source": [
    "### Exercise 9.  Plot several cosine functions with different angular frequencies. \n"
   ]
  },
  {
   "cell_type": "markdown",
   "metadata": {
    "collapsed": true
   },
   "source": [
    "To make our task a little easier, we will exploit Python's object orientation. Since everything in Python is an object, we can pass these objects around without much difficulty. In this exercise, we will define a function `cosine` that returns a cosine function with given angular frequency.\n",
    "```python\n",
    "import math\n",
    "def cosine(omega):\n",
    "    \"\"\"\n",
    "    Returns the function cos(omega*t). \n",
    "    \n",
    "    omega: The angular frequency. \n",
    "    \"\"\"\n",
    "    \n",
    "    def cosine_omega(t):\n",
    "        \"\"\"\n",
    "        Returns the number cos(omega*t). \n",
    "        \n",
    "        t: A float number. \n",
    "        \"\"\"\n",
    "        \n",
    "        return math.cos(omega*t)\n",
    "    return cosine_omega\n",
    "```"
   ]
  },
  {
   "cell_type": "code",
   "execution_count": 3,
   "metadata": {
    "collapsed": true
   },
   "outputs": [],
   "source": [
    "import math\n",
    "def cosine(omega):\n",
    "    \"\"\"\n",
    "    Returns the function cos(omega*t). \n",
    "        \n",
    "    omega: The angular frequency. \n",
    "    \"\"\"\n",
    "    \n",
    "    def cosine_omega(t):\n",
    "        \"\"\"\n",
    "        Returns the number cos(omega*t). \n",
    "        \n",
    "        t: A float number. \n",
    "        \"\"\"\n",
    "        \n",
    "        return math.cos(omega*t)\n",
    "    return cosine_omega\n",
    "\n"
   ]
  },
  {
   "cell_type": "markdown",
   "metadata": {
    "collapsed": false
   },
   "source": [
    "Now you can use the function `cosine()` defined above to plot the functions $\\cos_i(t) = \\cos(it)$ for $i = 1,3,5,7$ in $[0,2\\pi]$. Use [different colors](https://matplotlib.org/examples/color/named_colors.html) and [different markers](https://matplotlib.org/api/markers_api.html) for each function. [Label your axes](https://matplotlib.org/users/text_intro.html), put [legends](https://matplotlib.org/users/legend_guide.html) identifying each function and give your plot a title. Finally, [save your plot](https://matplotlib.org/api/figure_api.html#matplotlib.figure.Figure.savefig) as \"cosines plot.pdf\". To make your life easier, the function $cos_1$ is already worked out."
   ]
  },
  {
   "cell_type": "code",
   "execution_count": 2,
   "metadata": {
    "collapsed": false
   },
   "outputs": [
    {
     "data": {
      "image/png": "[encoded data removed]",
      "text/plain": [
       "<matplotlib.figure.Figure at 0x7f667c131588>"
      ]
     },
     "metadata": {},
     "output_type": "display_data"
    }
   ],
   "source": [
    "import math\n",
    "import matplotlib.pyplot as plt\n",
    "\n",
    "cos_1 = cosine(1)\n",
    "cos_3 = cosine(3)\n",
    "cos_5 = cosine(5)\n",
    "cos_7 = cosine(7)\n",
    "\n",
    "X = [i*0.01 for i in range(629)]\n",
    "Y1 = [cos_1(x) for x in X]\n",
    "Y3 = [cos_3(x) for x in X]\n",
    "Y5 = [cos_5(x) for x in X]\n",
    "Y7 = [cos_7(x) for x in X]\n",
    "plt.plot(X,Y1,\"r-\",X,Y3,\"b--\",X,Y5,\"y-.\",X,Y7,\"b\")\n",
    "plt.show()\n",
    "\n"
   ]
  },
  {
   "cell_type": "markdown",
   "metadata": {},
   "source": [
    "### Exercise 10. Plot several normal distributions. \n",
    "Your plot should show several [normal distributions](https://en.wikipedia.org/wiki/Normal_distribution) $\\mathcal{N}(\\mu,\\sigma)$ with same mean $\\mu$ and different standard deviations $\\sigma$. Take for example $\\sigma = 1, 10, 100$. Follow the same lines as exercise 8."
   ]
  },
  {
   "cell_type": "markdown",
   "metadata": {
    "collapsed": true
   },
   "source": [
    "### Exercise 11. p-norms.\n",
    "In mathematical analysis we often use the concept of [normed spaces](https://en.wikipedia.org/wiki/Normed_vector_space). Of particular interest are the p-norms (also called *l*$_p$-norms) in $\\mathbb{R}^n$ defined by\n",
    "\\begin{equation}\n",
    "||\\textbf{x}||_p = \\bigg(\\sum_{i=0}^{n-1}|x_i|^p\\bigg)^{\\frac{1}{p}}\n",
    "\\end{equation}\n",
    "where $\\textbf{x} = (x_0,...,x_{n-1})$ is a vector in $\\mathbb{R}^n$. Particular examples of p-norms are the taxicab norm (also called Manhattan norm) with $p = 1$ and the usual Euclidian norm with $p = 2$. \n",
    "We can also define the maximum norm (also called the supremum norm or infinity norm) by \n",
    "\\begin{equation}\n",
    "||\\textbf{x}_p|| = \\text{max}(|x_0|,...|x_{n-1}|).\n",
    "\\end{equation}\n",
    "\n",
    "For each of these norms, we can of define unit circles by the equation\n",
    "\\begin{equation}\n",
    "||\\textbf{x}||_p = 1.\n",
    "\\end{equation}\n",
    "\n",
    "Let us focus in the two-dimensional space $\\mathbb{R}^2$. Plot in the same graph the unit circles corresponding to $p = 1/2, 1, 2, 4, 16, \\infty$.\n"
   ]
  },
  {
   "cell_type": "code",
   "execution_count": null,
   "metadata": {
    "collapsed": true
   },
   "outputs": [],
   "source": []
  }
 ],
 "metadata": {
  "kernelspec": {
   "display_name": "Python 3",
   "language": "python",
   "name": "python3"
  },
  "language_info": {
   "codemirror_mode": {
    "name": "ipython",
    "version": 3
   },
   "file_extension": ".py",
   "mimetype": "text/x-python",
   "name": "python",
   "nbconvert_exporter": "python",
   "pygments_lexer": "ipython3",
   "version": "3.6.0"
  }
 },
 "nbformat": 4,
 "nbformat_minor": 2
}
